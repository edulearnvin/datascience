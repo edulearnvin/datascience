{
 "cells": [
  {
   "cell_type": "markdown",
   "id": "65f713e3-90ed-4d8a-99ff-cc610350b504",
   "metadata": {},
   "source": [
    "# Data Science Tools and Ecosystem "
   ]
  },
  {
   "cell_type": "markdown",
   "id": "f4cfef2f-a4b5-42a8-849a-ada8b367713a",
   "metadata": {},
   "source": [
    "# In this notebook, Data Science Tools and Ecosystem are summarized."
   ]
  },
  {
   "cell_type": "markdown",
   "id": "ddfa6ba2-1264-4997-92ac-947121d43213",
   "metadata": {},
   "source": [
    "# Objectives:\n",
    "\n",
    " List popular languages of data science \n",
    " List open source development tools in Data science \n",
    " List local, server and cloud based tools and applications for data science "
   ]
  },
  {
   "cell_type": "markdown",
   "id": "d8511bab-7705-4b78-91e7-8e31c81579cc",
   "metadata": {},
   "source": [
    "# Some of the popular languages that Data Scientists use are:\n",
    "1. R\n",
    "2. Python\n",
    "3. Scala"
   ]
  },
  {
   "cell_type": "markdown",
   "id": "c091b919-ead1-4363-9712-02e652e5dd57",
   "metadata": {},
   "source": [
    "# Some of the commonly used libraries used by Data Scientists include:\n",
    "1. TensorFlow\n",
    "2. NumPy\n",
    "3. SciPy \n",
    "4. Pandas\n",
    "5. Matplotlib "
   ]
  },
  {
   "cell_type": "markdown",
   "id": "d4547485-363a-40bc-b6ee-a41dbc6b6af6",
   "metadata": {},
   "source": [
    "| Data Science Tools      | \n",
    "| R studio     | \n",
    "| Jupyter notebooks    | \n",
    "| Rapid Miner   | "
   ]
  },
  {
   "cell_type": "markdown",
   "id": "fc255f87-af78-46b6-9b78-1895393c7ad0",
   "metadata": {},
   "source": [
    "### Below are a few examples of evaluating arithmetic expressions in Python"
   ]
  },
  {
   "cell_type": "code",
   "execution_count": 1,
   "id": "e8a36d43-6a9d-47b1-9fe1-9bc0daf61c2b",
   "metadata": {
    "tags": []
   },
   "outputs": [
    {
     "data": {
      "text/plain": [
       "17"
      ]
     },
     "execution_count": 1,
     "metadata": {},
     "output_type": "execute_result"
    }
   ],
   "source": [
    "# This a simple arithmetic expression to mutiply then add integers.\n",
    "(3*4)+5"
   ]
  },
  {
   "cell_type": "code",
   "execution_count": 2,
   "id": "792db707-695a-4555-970d-d830b598b3cf",
   "metadata": {
    "tags": []
   },
   "outputs": [
    {
     "data": {
      "text/plain": [
       "3.3333333333333335"
      ]
     },
     "execution_count": 2,
     "metadata": {},
     "output_type": "execute_result"
    }
   ],
   "source": [
    "# This will convert 200 minutes to hours by dividing by 60.\n",
    "\n",
    "200/60"
   ]
  },
  {
   "cell_type": "markdown",
   "id": "5617d54c-38cd-4ef4-8844-e135709849aa",
   "metadata": {},
   "source": [
    "## Author : Vinayak Sastri"
   ]
  },
  {
   "cell_type": "code",
   "execution_count": null,
   "id": "a16d210b-0a07-429c-894a-4e81fefe8d1b",
   "metadata": {},
   "outputs": [],
   "source": []
  }
 ],
 "metadata": {
  "kernelspec": {
   "display_name": "Python",
   "language": "python",
   "name": "conda-env-python-py"
  },
  "language_info": {
   "codemirror_mode": {
    "name": "ipython",
    "version": 3
   },
   "file_extension": ".py",
   "mimetype": "text/x-python",
   "name": "python",
   "nbconvert_exporter": "python",
   "pygments_lexer": "ipython3",
   "version": "3.7.12"
  }
 },
 "nbformat": 4,
 "nbformat_minor": 5
}
